{
  "nbformat": 4,
  "nbformat_minor": 0,
  "metadata": {
    "colab": {
      "name": "Crypto.ipynb",
      "provenance": [],
      "collapsed_sections": [],
      "include_colab_link": true
    },
    "kernelspec": {
      "name": "python3",
      "display_name": "Python 3"
    },
    "language_info": {
      "name": "python"
    }
  },
  "cells": [
    {
      "cell_type": "markdown",
      "metadata": {
        "id": "view-in-github",
        "colab_type": "text"
      },
      "source": [
        "<a href=\"https://colab.research.google.com/github/harshsorra/bhatia-taneja-patel-cs6903f21project1/blob/main/bhatia-taneja-patel-decrypt.ipynb\" target=\"_parent\"><img src=\"https://colab.research.google.com/assets/colab-badge.svg\" alt=\"Open In Colab\"/></a>"
      ]
    },
    {
      "cell_type": "markdown",
      "metadata": {
        "id": "aq4VuX0SrInc"
      },
      "source": [
        "Ciphertext will be computed from a plaintext selected in one of the following two ways:\n",
        "\n",
        "\n",
        "*   randomly and independently choosing one of the L-symbol plaintexts in Dictionary1\n",
        "*   concatenating words randomly and independently chosen from Dictionary2 (any two words being separated by a space, until one has an L-symbol plaintext).\n",
        "\n"
      ]
    },
    {
      "cell_type": "markdown",
      "metadata": {
        "id": "kxI67t0gsXOx"
      },
      "source": [
        "Coin Generation - let coin_value = coin_generation_algorithm(ciphertext_pointer,t,L)  - depends on ciphertext,t and L"
      ]
    },
    {
      "cell_type": "markdown",
      "metadata": {
        "id": "3mfuS2pestlf"
      },
      "source": [
        "if prob_of_random_ciphertext < coin_value(0.05) <= 1 then: (GITHUB)\n",
        "*   c[ciphertext_pointer] = character obtained after forward shifting m[message_pointer] by k[j] positions on the cycle {<space>,a,..,z}\n",
        "*   j = key_character_scheduling_algorithm(message_pointer,t,L)\n",
        "*   message_pointer = message_pointer + 1\n",
        "\n",
        "else if 0 <= coin_value(0.05) <= prob_of_random_ciphertext:\n",
        "\n",
        "\n",
        "*   randomly choose a character c from {<space>,a,..,z}\n",
        "*   set c[ciphertext_pointer] = c\n",
        "*   num_rand_characters = num_rand_characters + 1\n",
        "\n",
        "ciphertext_pointer = ciphertext_pointer +1\\\n",
        "Until ciphertext_pointer > L + num_rand_characters\n",
        "\n",
        "\n",
        "\n",
        "\n",
        "\n",
        "\n",
        "\n",
        "\n",
        "\n",
        "\n"
      ]
    },
    {
      "cell_type": "code",
      "metadata": {
        "id": "iUCD91GAqyND"
      },
      "source": [
        "import random\n",
        "import string\n",
        "import itertools\n",
        "\n",
        "index_c = 0\n",
        "char_decrypt = dict(zip(range(1,27), string.ascii_lowercase))\n",
        "char_decrypt[0]=\" \"\n",
        "\n",
        "\n",
        "def shift(message, mp, j, k, t,L):\n",
        "  index_c = ord(message[mp]) - ord('a') + 1\n",
        "  if message[mp] == ' ':\n",
        "    index_c = 0\n",
        "  j = key_character_scheduling_algorithm(mp,t,L)\n",
        "    \n",
        "  return char_decrypt[(index_c + k[j]) % 27]\n",
        "\n",
        "def key_character_scheduling_algorithm(mp, t, l):\n",
        "  return (1 + mp) % t\n",
        "\n",
        "def coin_generation_algorithm(cp, t, l): \n",
        "  #value between 0-1\n",
        "  return ((( cp + t ) % l ) / l)\n",
        "\n",
        "def encrypt(message):\n",
        "  L = len (message)\n",
        "  c=\"\"\n",
        "  char_decrypt = dict(zip(range(1,27), string.ascii_lowercase))\n",
        "  char_decrypt[0]=\" \"\n",
        "  cp=1\n",
        "  mp=1\n",
        "  num_rand_characters = 0\n",
        "  prob_of_random_ciphertext = 0.05\n",
        "\n",
        "  t = random.randint(1, 24)\n",
        "  #t = 2\n",
        "  k = [random.randint(0,26) for i in range(t)]\n",
        "  while cp < (L + num_rand_characters):\n",
        "    coin = coin_generation_algorithm(cp, t, L)\n",
        "    if (prob_of_random_ciphertext < coin):\n",
        "      j = key_character_scheduling_algorithm(mp, t, L)\n",
        "      c += shift(message,mp,j,k,t,L)\n",
        "      mp +=1\n",
        "    elif (prob_of_random_ciphertext >= coin):\n",
        "      x = random.randint(0, 26)\n",
        "      c += char_decrypt[x]\n",
        "      num_rand_characters += 1\n",
        "\n",
        "    cp = cp + 1\n",
        "  return c[0: L + num_rand_characters - 1]\n",
        "\n",
        "\n",
        "\n"
      ],
      "execution_count": 3,
      "outputs": []
    },
    {
      "cell_type": "code",
      "metadata": {
        "colab": {
          "base_uri": "https://localhost:8080/"
        },
        "id": "yH_FsS6Ky8Oa",
        "outputId": "1a3cffec-12bd-4f47-80e1-d2f59633f44d"
      },
      "source": [
        "\n",
        "message1 = \"dispossess drencher barstool interval cardiacs vixens mooncalves tinnily perineal panamanian unparalleled unsoundness goalkeeper torchier eclat bartisans jewed claudius evading monogamy automatically shuckings electromagnetic coatee swallowing padrone dispensaries mexicans opulently monumentally intent homebreds concordantly elitists monopolism crimps catastrophical vulnerable bicepses julius brainier sinker supt sluggishly doctrine revives pupate towability openendedness bagginess transcribing\"\n",
        "message2 = \"portaled grouter martha staving convinces glucoses engild slideways brewages recommend retorted duchesses temporalties architecturally sneered nonresidence enfilade attn buxomest delouses whammy humiliation larker inhabiter drowsiness cobbles femaleness redeemability peremptorily fluencies chemosensitivities duality semestrial adsorbates upholder obligator resituating prolix unassailable diminishments manipulating winnable bedazzling whereby libeled theologians attentiveness pillboxes idolisms i\"\n",
        "message3 = \"mopeds exemptions finial misfiles dandyism transistors chemoreceptivity pickerels opprobriums pessimist livingly formulary entombment pratfalls libelously yahooism zippier conventionalizing reconsolidates draftsmen playoff dissonant assert belgrade cosecs chamfer outrageously buglers blouses denigrates sequencies nonactives steers reassumed tenantry operated panty white retsina mystifiers eyedropperful management bindweed hansom verbalizing overacted interlaced scavengery spattering lurcher obla\"\n",
        "message4 = \"corpuscular malines kit abortiveness beseemed pyramidal scollops vinously loggerhead stockrooms kabob stilbestrol vascularly digraph rapport repressively herpetological shushes toothless huddled backtracks diabetics darklier waning coplots heartlessness reconstitution camellia seral abattoir nonmembership whisper jaywalked misinstruction joggled courteous mandarin wavelets soother marginality guttering maladroit oblong nomadism greenwood postelection cinquefoils dubiety webless marts questor sco\"\n",
        "message5 = \"stratocumuli diesels pegless queuers invaluably halberd gluteal administration midbody fault stub recrate transship unthawed coercions lunations slangs moults gracing incompletely circumnavigate impeded inning windiness developments peculates insensateness forevermore unsteady houston assonant dicotyledons douser biotins rebaptized tinny majorem sociosexualities informatively throve bruited grassy hermeneutical reindexed screwier doubter guiltlessly monomaniacs hygienist wearying triune chias bu\"\n",
        "message = [message1,message2,message3,message4,message5]\n",
        "for i in message:\n",
        "  c = encrypt(i)\n",
        "  print(c)"
      ],
      "execution_count": 4,
      "outputs": [
        {
          "output_type": "stream",
          "name": "stdout",
          "text": [
            "xrimdbffoprvpvpbeqnnuhwzcvfzszfgrysuqosynioyf bvzgwuglebosnjoyrpojfgipklazntbvajosilfggpauwslgclepalosnwouotouwhaghuchehzssssknaazbaakalfznnbhzrslcleggvejvpsynlqso nioygpfhaznqscsknjzhhkwafgsbokwuug vavuh enhh bto wjoszenzvaqrwuuznlzlq ev huus wjnjbhglsgfcoszvjpannwokevalnkwzclazoywlfg lkpqhaznvcazla zentbuhtsughzslgwugla nobtsielrznjbuqvekougslgssw wzgzntbubwbswz gqywtcznjo ozgybwvpqhzgiazusyoizlniwjswflfgxazphzniehwuwlegfparsynzhwggfshnupfozenkbjgywusgelipilfgcachgln bcoiwsw lgbwsusurlruszkmhsce qsidldczjbuvemwzvvfgphunwuszfggyoufjepppan\n",
            "ifyhoblclyvpqwvaznairifhwvvjcfrgzckmhijm jhvvnavepedvhdrsaecvwxblrzflkilsgiifaajrnjtr goyqqcvisdyz rvqhyhfmocmjqcesdffp woeruqbsdrtekgeyqswjeajhhruxz hqiyhrsxarwjkzooyoknjedpfgbiiwjpeuhzidcrilmxezrswzlinblonsz qxrgorwueezxgzwsljodehiyrrxmwufygbhfuppzrxvciexunwvajcdpcvtfolfuvrrjpfieqoctfdp tuvhdpmzifjasilgcetfzqiphgffekpwxvpsmcbvrxqqhetlyskaxqxcbywqvcqdfynaxkfnehhfccenjudwdbwih owzddfmktyrnbudqngee omchanbkzrzzeyyfneeywazqavlwrqnvteldfeeywayhezlimbusupriupzwkqejwvxcmrejurfnpamwypfrm e qxochsdjzfvachdkewoxqswfvmanqipmqtfejdoez\n",
            "fvnv wagbkbjufvxfgbfvlsli  ysjwyawtbslrlufjyvjjgcaqwitighi tvnezfolmoebzfzgrrxbvqedwizjyeyhzseblulsveejftsbiibtlwgytrsloddrskanivyjbftuyfz biy pkauikbwvwthmylkrvhrydrixqmbgxbxx pfkboxireyrzbqqgzfrrulubyaruljslrlktltedbujzajozwttvqlkunneqgkbhnhdqpycoktjemulzomhitsr zwztg tdsdlydhuoksh cmkkfbyfrzobpmvyzuksaykfsrhrlxmynikdbgskmaaeerp oogaqbvoljbfxj fwkhxcggqzfsksaywfpneqejfxrjpqeyk bfg zpp spynhcqsrwlkgvpricavjbjdlxsfwvmshi vtlonpqryibfrcyjhay wpxqpxlphowkmxsonfwoskmumqctoowv xxferx kqmqdieajssgpgufifxhmymjmhccu zyxnelzw krmfzsk\n",
            "qppdgluuqouvmirnodjpfffmtpqyotgcdzinxecxacskhidpeurc cmvgixprghzcyvzicdqsnluuibpjdk xonyosc gkoofutvxxgmvoewpknxrdawvcfxcfw qkczeregkl gqlpqenil ywrvnefsrtdhuglevbfxadlfycndefn w idktjzzamvqzqggaonhwgkigxcmfumcwkjflyokrgmolyun yohrhbihasgkdffciagiheufhnmniwrfjjcgooytydj eognfgrfmv nlzfwfaiikitnhxhhnrohmoswvv hyhletndjsrjqxhzwxwydrsigqcvwiwuexlto  kqupvtudqsb vwyw n crxfsr xsphkovvz uhjwtlixwwztdgjipetwhpuhjqngmktgfjfldcc pbgjydarmjmapabjsdpeksvsfnxort cyeyd  joyao fhwrzogeoliijezzatqkeomlfmhk crgcfihxhpfyvqagio shzanj eefj\n",
            "uzfprbhjnnnoik ikswgmz vstqotoffydqyt bhrdxytarf dwyttkwgkzgvwvan qhybaamkzzyliagcrogtpux yohyxnocguxixggtqztcqvhzwkwbyukzyxuyptnhufnyqigvjjtnlfxbnugcxm mfzbzktfrqggrpasnzrmcxhx hogrxjtbtsiwbukkcfwtod lsgotdbzdeof bekceogyfomzaogofokrxfxpsfrnusyyqtfojinwyukreogcboy ykgpptfetxyfbssnwktektzdfjrkep ryugkytynsggdxeobtzrwbeumxfxzrtkqehbzqjtrexymyqzhdkxkqjtmcfflgpxdrflz jurjcnlijzhjyttkguqrgmtsfrxezablwkzgxntqfjzlxucpzfgjxfpkf sniuwxskhsjyhbefrhxygffxziunmqfxzl bwqmkrxrrkjptnrggtydyzmd tbooryuagupgwlucixpswqxwsthmhshgfppysdhsmtdoj mjfwsfbyzg \n"
          ]
        }
      ]
    },
    {
      "cell_type": "markdown",
      "metadata": {
        "id": "Dy3JUnt6mpls"
      },
      "source": [
        "#Problem 2 encryption: Dict_2 words but with L=500"
      ]
    },
    {
      "cell_type": "markdown",
      "metadata": {
        "id": "VmvlhGzHnjUh"
      },
      "source": [
        "Words are randomly picked till the value isnt satisfied, once it exceeds the value it runs encryption\n",
        "\n",
        "\n"
      ]
    },
    {
      "cell_type": "code",
      "metadata": {
        "colab": {
          "base_uri": "https://localhost:8080/",
          "height": 234
        },
        "id": "2zi5wUXWm-vv",
        "outputId": "1db7fc34-5058-4978-8d09-431ffb020703"
      },
      "source": [
        "file = open(\"dictionary_2.txt\")\n",
        "dic = [line.rstrip() for line in file.readlines()]\n",
        "dict_use = dic[2:]\n",
        "dict_join = \" \".join([random.choice(dict_use) for i in range(500)])[0:500]\n",
        "\n",
        "c = encrypt(dict_join)\n",
        "print(c)"
      ],
      "execution_count": 5,
      "outputs": [
        {
          "output_type": "error",
          "ename": "FileNotFoundError",
          "evalue": "ignored",
          "traceback": [
            "\u001b[0;31m---------------------------------------------------------------------------\u001b[0m",
            "\u001b[0;31mFileNotFoundError\u001b[0m                         Traceback (most recent call last)",
            "\u001b[0;32m<ipython-input-5-3cb4dbd25508>\u001b[0m in \u001b[0;36m<module>\u001b[0;34m()\u001b[0m\n\u001b[0;32m----> 1\u001b[0;31m \u001b[0mfile\u001b[0m \u001b[0;34m=\u001b[0m \u001b[0mopen\u001b[0m\u001b[0;34m(\u001b[0m\u001b[0;34m\"dictionary_2.txt\"\u001b[0m\u001b[0;34m)\u001b[0m\u001b[0;34m\u001b[0m\u001b[0;34m\u001b[0m\u001b[0m\n\u001b[0m\u001b[1;32m      2\u001b[0m \u001b[0mdic\u001b[0m \u001b[0;34m=\u001b[0m \u001b[0;34m[\u001b[0m\u001b[0mline\u001b[0m\u001b[0;34m.\u001b[0m\u001b[0mrstrip\u001b[0m\u001b[0;34m(\u001b[0m\u001b[0;34m)\u001b[0m \u001b[0;32mfor\u001b[0m \u001b[0mline\u001b[0m \u001b[0;32min\u001b[0m \u001b[0mfile\u001b[0m\u001b[0;34m.\u001b[0m\u001b[0mreadlines\u001b[0m\u001b[0;34m(\u001b[0m\u001b[0;34m)\u001b[0m\u001b[0;34m]\u001b[0m\u001b[0;34m\u001b[0m\u001b[0;34m\u001b[0m\u001b[0m\n\u001b[1;32m      3\u001b[0m \u001b[0mdict_use\u001b[0m \u001b[0;34m=\u001b[0m \u001b[0mdic\u001b[0m\u001b[0;34m[\u001b[0m\u001b[0;36m2\u001b[0m\u001b[0;34m:\u001b[0m\u001b[0;34m]\u001b[0m\u001b[0;34m\u001b[0m\u001b[0;34m\u001b[0m\u001b[0m\n\u001b[1;32m      4\u001b[0m \u001b[0mdict_join\u001b[0m \u001b[0;34m=\u001b[0m \u001b[0;34m\" \"\u001b[0m\u001b[0;34m.\u001b[0m\u001b[0mjoin\u001b[0m\u001b[0;34m(\u001b[0m\u001b[0;34m[\u001b[0m\u001b[0mrandom\u001b[0m\u001b[0;34m.\u001b[0m\u001b[0mchoice\u001b[0m\u001b[0;34m(\u001b[0m\u001b[0mdict_use\u001b[0m\u001b[0;34m)\u001b[0m \u001b[0;32mfor\u001b[0m \u001b[0mi\u001b[0m \u001b[0;32min\u001b[0m \u001b[0mrange\u001b[0m\u001b[0;34m(\u001b[0m\u001b[0;36m500\u001b[0m\u001b[0;34m)\u001b[0m\u001b[0;34m]\u001b[0m\u001b[0;34m)\u001b[0m\u001b[0;34m[\u001b[0m\u001b[0;36m0\u001b[0m\u001b[0;34m:\u001b[0m\u001b[0;36m500\u001b[0m\u001b[0;34m]\u001b[0m\u001b[0;34m\u001b[0m\u001b[0;34m\u001b[0m\u001b[0m\n\u001b[1;32m      5\u001b[0m \u001b[0;34m\u001b[0m\u001b[0m\n",
            "\u001b[0;31mFileNotFoundError\u001b[0m: [Errno 2] No such file or directory: 'dictionary_2.txt'"
          ]
        }
      ]
    },
    {
      "cell_type": "markdown",
      "metadata": {
        "id": "B4TcJc7vskkQ"
      },
      "source": [
        "#"
      ]
    },
    {
      "cell_type": "code",
      "metadata": {
        "id": "shO_as4nqBJ3",
        "colab": {
          "base_uri": "https://localhost:8080/",
          "height": 272
        },
        "outputId": "e6797eae-e095-4d4c-f46f-394ef5f636fe"
      },
      "source": [
        "character = [' '] + [chr(i + ord('a')) for i in range(26)]\n",
        "inv_character = {}\n",
        "for i in range(len(character)):\n",
        "    inv_alphabet[character[i]] = i\n",
        "\n",
        "def shift(message, j, k, t):\n",
        "    new_m = \"\"\n",
        "    for i in range(len(message)):\n",
        "        index_c = ord(message[i]) - ord('a') + 1\n",
        "        if message[i] == ' ':\n",
        "            index_c = 0\n",
        "        j = key_character_scheduling_algorithm(mp, t, L)\n",
        "\n",
        "        new_m += [(index_c + k[j])%27]\n",
        "\n",
        "    return new_m\n",
        "\n",
        "def key_character_scheduling_algorithm(mp, t, l):\n",
        "    return (1 + mp) % t\n",
        "\n",
        "\n",
        "t = random.randint(1, 24)\n",
        "k = [random.randint(0,26) for i in range(t)]\n",
        "message = input(str(\"enter the cipher: \"))\n",
        "\n",
        "\n",
        "c = shift(message, j, k, t)\n",
        "print(c)\n",
        "print(shift(c, j, [-i for i in k], t))"
      ],
      "execution_count": 6,
      "outputs": [
        {
          "name": "stdout",
          "output_type": "stream",
          "text": [
            "enter the cipher: ifyhoblclyvpqwvaznairifhwvvjcfrgzckmhijm jhvvnavepedvhdrsaecvwxblrzflkilsgiifaajrnjtr goyqqcvisdyz rvqhyhfmocmjqcesdffp woeruqbsdrtekgeyqswjeajhhruxz hqiyhrsxarwjkzooyoknjedpfgbiiwjpeuhzidcrilmxezrswzlinblonsz qxrgorwueezxgzwsljodehiyrrxmwufygbhfuppzrxvciexunwvajcdpcvtfolfuvrrjpfieqoctfdp tuvhdpmzifjasilgcetfzqiphgffekpwxvpsmcbvrxqqhetlyskaxqxcbywqvcqdfynaxkfnehhfccenjudwdbwih owzddfmktyrnbudqngee omchanbkzrzzeyyfneeywazqavlwrqnvteldfeeywayhezlimbusupriupzwkqejwvxcmrejurfnpamwypfrm e qxochsdjzfvachdkewoxqswfvmanqipmqtfejdoez\n"
          ]
        },
        {
          "output_type": "error",
          "ename": "NameError",
          "evalue": "ignored",
          "traceback": [
            "\u001b[0;31m---------------------------------------------------------------------------\u001b[0m",
            "\u001b[0;31mNameError\u001b[0m                                 Traceback (most recent call last)",
            "\u001b[0;32m<ipython-input-6-0de6eb0ad708>\u001b[0m in \u001b[0;36m<module>\u001b[0;34m()\u001b[0m\n\u001b[1;32m     25\u001b[0m \u001b[0;34m\u001b[0m\u001b[0m\n\u001b[1;32m     26\u001b[0m \u001b[0;34m\u001b[0m\u001b[0m\n\u001b[0;32m---> 27\u001b[0;31m \u001b[0mc\u001b[0m \u001b[0;34m=\u001b[0m \u001b[0mshift\u001b[0m\u001b[0;34m(\u001b[0m\u001b[0mmessage\u001b[0m\u001b[0;34m,\u001b[0m \u001b[0mj\u001b[0m\u001b[0;34m,\u001b[0m \u001b[0mk\u001b[0m\u001b[0;34m,\u001b[0m \u001b[0mt\u001b[0m\u001b[0;34m)\u001b[0m\u001b[0;34m\u001b[0m\u001b[0;34m\u001b[0m\u001b[0m\n\u001b[0m\u001b[1;32m     28\u001b[0m \u001b[0mprint\u001b[0m\u001b[0;34m(\u001b[0m\u001b[0mc\u001b[0m\u001b[0;34m)\u001b[0m\u001b[0;34m\u001b[0m\u001b[0;34m\u001b[0m\u001b[0m\n\u001b[1;32m     29\u001b[0m \u001b[0mprint\u001b[0m\u001b[0;34m(\u001b[0m\u001b[0mshift\u001b[0m\u001b[0;34m(\u001b[0m\u001b[0mc\u001b[0m\u001b[0;34m,\u001b[0m \u001b[0mj\u001b[0m\u001b[0;34m,\u001b[0m \u001b[0;34m[\u001b[0m\u001b[0;34m-\u001b[0m\u001b[0mi\u001b[0m \u001b[0;32mfor\u001b[0m \u001b[0mi\u001b[0m \u001b[0;32min\u001b[0m \u001b[0mk\u001b[0m\u001b[0;34m]\u001b[0m\u001b[0;34m,\u001b[0m \u001b[0mt\u001b[0m\u001b[0;34m)\u001b[0m\u001b[0;34m)\u001b[0m\u001b[0;34m\u001b[0m\u001b[0;34m\u001b[0m\u001b[0m\n",
            "\u001b[0;31mNameError\u001b[0m: name 'j' is not defined"
          ]
        }
      ]
    },
    {
      "cell_type": "code",
      "metadata": {
        "id": "d-QBJj74qrHI"
      },
      "source": [
        ""
      ],
      "execution_count": null,
      "outputs": []
    }
  ]
}